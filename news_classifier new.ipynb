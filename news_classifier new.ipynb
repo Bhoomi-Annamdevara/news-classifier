{
  "cells": [
    {
      "cell_type": "code",
      "source": [
        "pwd"
      ],
      "metadata": {
        "colab": {
          "base_uri": "https://localhost:8080/",
          "height": 35
        },
        "id": "h7WJPm97lPMz",
        "outputId": "316abda8-a257-4e7c-99c0-87d9b898e2ed"
      },
      "execution_count": 7,
      "outputs": [
        {
          "output_type": "execute_result",
          "data": {
            "text/plain": [
              "'/content'"
            ],
            "application/vnd.google.colaboratory.intrinsic+json": {
              "type": "string"
            }
          },
          "metadata": {},
          "execution_count": 7
        }
      ]
    },
    {
      "cell_type": "code",
      "source": [
        "cd news-classifier/"
      ],
      "metadata": {
        "colab": {
          "base_uri": "https://localhost:8080/"
        },
        "id": "fH3B9B85loEX",
        "outputId": "524a5e8a-91f8-434e-8f64-931bb85990ab"
      },
      "execution_count": 8,
      "outputs": [
        {
          "output_type": "stream",
          "name": "stdout",
          "text": [
            "/content/news-classifier\n"
          ]
        }
      ]
    },
    {
      "cell_type": "code",
      "source": [
        "!git clone https://github.com/csivitu/news-classifier.git"
      ],
      "metadata": {
        "colab": {
          "base_uri": "https://localhost:8080/"
        },
        "id": "Ctbr7AD2kXNn",
        "outputId": "15ad47f4-e455-4a05-ad83-113b4c68133b"
      },
      "execution_count": 5,
      "outputs": [
        {
          "output_type": "stream",
          "name": "stdout",
          "text": [
            "Cloning into 'news-classifier'...\n",
            "remote: Enumerating objects: 18, done.\u001b[K\n",
            "remote: Counting objects: 100% (18/18), done.\u001b[K\n",
            "remote: Compressing objects: 100% (14/14), done.\u001b[K\n",
            "remote: Total 18 (delta 4), reused 13 (delta 2), pack-reused 0 (from 0)\u001b[K\n",
            "Receiving objects: 100% (18/18), 26.22 MiB | 13.48 MiB/s, done.\n",
            "Resolving deltas: 100% (4/4), done.\n"
          ]
        }
      ]
    },
    {
      "cell_type": "code",
      "execution_count": 1,
      "metadata": {
        "colab": {
          "base_uri": "https://localhost:8080/"
        },
        "id": "JAn1N-z5L6J5",
        "outputId": "33eccfff-6f4c-4bce-8e2b-18507e89e78b"
      },
      "outputs": [
        {
          "output_type": "stream",
          "name": "stdout",
          "text": [
            "Requirement already satisfied: pandas in /usr/local/lib/python3.10/dist-packages (2.1.4)\n",
            "Requirement already satisfied: scikit-learn in /usr/local/lib/python3.10/dist-packages (1.5.2)\n",
            "Requirement already satisfied: nltk in /usr/local/lib/python3.10/dist-packages (3.8.1)\n",
            "Requirement already satisfied: numpy<2,>=1.22.4 in /usr/local/lib/python3.10/dist-packages (from pandas) (1.26.4)\n",
            "Requirement already satisfied: python-dateutil>=2.8.2 in /usr/local/lib/python3.10/dist-packages (from pandas) (2.8.2)\n",
            "Requirement already satisfied: pytz>=2020.1 in /usr/local/lib/python3.10/dist-packages (from pandas) (2024.2)\n",
            "Requirement already satisfied: tzdata>=2022.1 in /usr/local/lib/python3.10/dist-packages (from pandas) (2024.1)\n",
            "Requirement already satisfied: scipy>=1.6.0 in /usr/local/lib/python3.10/dist-packages (from scikit-learn) (1.13.1)\n",
            "Requirement already satisfied: joblib>=1.2.0 in /usr/local/lib/python3.10/dist-packages (from scikit-learn) (1.4.2)\n",
            "Requirement already satisfied: threadpoolctl>=3.1.0 in /usr/local/lib/python3.10/dist-packages (from scikit-learn) (3.5.0)\n",
            "Requirement already satisfied: click in /usr/local/lib/python3.10/dist-packages (from nltk) (8.1.7)\n",
            "Requirement already satisfied: regex>=2021.8.3 in /usr/local/lib/python3.10/dist-packages (from nltk) (2024.9.11)\n",
            "Requirement already satisfied: tqdm in /usr/local/lib/python3.10/dist-packages (from nltk) (4.66.5)\n",
            "Requirement already satisfied: six>=1.5 in /usr/local/lib/python3.10/dist-packages (from python-dateutil>=2.8.2->pandas) (1.16.0)\n"
          ]
        }
      ],
      "source": [
        "!pip install pandas scikit-learn nltk"
      ]
    },
    {
      "cell_type": "code",
      "execution_count": 2,
      "metadata": {
        "colab": {
          "base_uri": "https://localhost:8080/"
        },
        "id": "rIlPE7hyL8EA",
        "outputId": "379efaf2-5146-422f-b4b7-ea9a2bd671a8"
      },
      "outputs": [
        {
          "output_type": "execute_result",
          "data": {
            "text/plain": [
              "True"
            ]
          },
          "metadata": {},
          "execution_count": 2
        }
      ],
      "source": [
        "import pandas as pd\n",
        "from sklearn.model_selection import train_test_split\n",
        "from sklearn.feature_extraction.text import TfidfVectorizer\n",
        "from sklearn.naive_bayes import MultinomialNB\n",
        "from sklearn.metrics import accuracy_score, classification_report\n",
        "from sklearn.pipeline import Pipeline\n",
        "import nltk\n",
        "from nltk.corpus import stopwords\n",
        "from nltk.tokenize import word_tokenize\n",
        "import time\n",
        "\n",
        "nltk.download('punkt_tab', quiet=True)\n",
        "nltk.download('stopwords', quiet=True)\n",
        "nltk.download('wordnet', quiet=True)"
      ]
    },
    {
      "cell_type": "code",
      "execution_count": 11,
      "metadata": {
        "id": "0ShVjRtpL8Rm",
        "colab": {
          "base_uri": "https://localhost:8080/"
        },
        "outputId": "125b3562-ae99-4b7d-d452-4fd06d74e3e9"
      },
      "outputs": [
        {
          "output_type": "stream",
          "name": "stdout",
          "text": [
            "                                                     link  \\\n",
            "0       https://www.huffpost.com/entry/covid-boosters-...   \n",
            "1       https://www.huffpost.com/entry/american-airlin...   \n",
            "2       https://www.huffpost.com/entry/funniest-tweets...   \n",
            "3       https://www.huffpost.com/entry/funniest-parent...   \n",
            "4       https://www.huffpost.com/entry/amy-cooper-lose...   \n",
            "...                                                   ...   \n",
            "209522  https://www.huffingtonpost.com/entry/rim-ceo-t...   \n",
            "209523  https://www.huffingtonpost.com/entry/maria-sha...   \n",
            "209524  https://www.huffingtonpost.com/entry/super-bow...   \n",
            "209525  https://www.huffingtonpost.com/entry/aldon-smi...   \n",
            "209526  https://www.huffingtonpost.com/entry/dwight-ho...   \n",
            "\n",
            "                                                 headline   category  \\\n",
            "0       Over 4 Million Americans Roll Up Sleeves For O...  U.S. NEWS   \n",
            "1       American Airlines Flyer Charged, Banned For Li...  U.S. NEWS   \n",
            "2       23 Of The Funniest Tweets About Cats And Dogs ...     COMEDY   \n",
            "3       The Funniest Tweets From Parents This Week (Se...  PARENTING   \n",
            "4       Woman Who Called Cops On Black Bird-Watcher Lo...  U.S. NEWS   \n",
            "...                                                   ...        ...   \n",
            "209522  RIM CEO Thorsten Heins' 'Significant' Plans Fo...       TECH   \n",
            "209523  Maria Sharapova Stunned By Victoria Azarenka I...     SPORTS   \n",
            "209524  Giants Over Patriots, Jets Over Colts Among  M...     SPORTS   \n",
            "209525  Aldon Smith Arrested: 49ers Linebacker Busted ...     SPORTS   \n",
            "209526  Dwight Howard Rips Teammates After Magic Loss ...     SPORTS   \n",
            "\n",
            "                                        short_description  \\\n",
            "0       Health experts said it is too early to predict...   \n",
            "1       He was subdued by passengers and crew when he ...   \n",
            "2       \"Until you have a dog you don't understand wha...   \n",
            "3       \"Accidentally put grown-up toothpaste on my to...   \n",
            "4       Amy Cooper accused investment firm Franklin Te...   \n",
            "...                                                   ...   \n",
            "209522  Verizon Wireless and AT&T are already promotin...   \n",
            "209523  Afterward, Azarenka, more effusive with the pr...   \n",
            "209524  Leading up to Super Bowl XLVI, the most talked...   \n",
            "209525  CORRECTION: An earlier version of this story i...   \n",
            "209526  The five-time all-star center tore into his te...   \n",
            "\n",
            "                     authors       date  \n",
            "0       Carla K. Johnson, AP 2022-09-23  \n",
            "1             Mary Papenfuss 2022-09-23  \n",
            "2              Elyse Wanshel 2022-09-23  \n",
            "3           Caroline Bologna 2022-09-23  \n",
            "4             Nina Golgowski 2022-09-22  \n",
            "...                      ...        ...  \n",
            "209522      Reuters, Reuters 2012-01-28  \n",
            "209523                       2012-01-28  \n",
            "209524                       2012-01-28  \n",
            "209525                       2012-01-28  \n",
            "209526                       2012-01-28  \n",
            "\n",
            "[209527 rows x 6 columns]\n",
            "                                                     link  \\\n",
            "0       https://www.huffpost.com/entry/covid-boosters-...   \n",
            "1       https://www.huffpost.com/entry/american-airlin...   \n",
            "2       https://www.huffpost.com/entry/funniest-tweets...   \n",
            "3       https://www.huffpost.com/entry/funniest-parent...   \n",
            "4       https://www.huffpost.com/entry/amy-cooper-lose...   \n",
            "...                                                   ...   \n",
            "209522  https://www.huffingtonpost.com/entry/rim-ceo-t...   \n",
            "209523  https://www.huffingtonpost.com/entry/maria-sha...   \n",
            "209524  https://www.huffingtonpost.com/entry/super-bow...   \n",
            "209525  https://www.huffingtonpost.com/entry/aldon-smi...   \n",
            "209526  https://www.huffingtonpost.com/entry/dwight-ho...   \n",
            "\n",
            "                                                 headline   category  \\\n",
            "0       Over 4 Million Americans Roll Up Sleeves For O...  U.S. NEWS   \n",
            "1       American Airlines Flyer Charged, Banned For Li...  U.S. NEWS   \n",
            "2       23 Of The Funniest Tweets About Cats And Dogs ...     COMEDY   \n",
            "3       The Funniest Tweets From Parents This Week (Se...  PARENTING   \n",
            "4       Woman Who Called Cops On Black Bird-Watcher Lo...  U.S. NEWS   \n",
            "...                                                   ...        ...   \n",
            "209522  RIM CEO Thorsten Heins' 'Significant' Plans Fo...       TECH   \n",
            "209523  Maria Sharapova Stunned By Victoria Azarenka I...     SPORTS   \n",
            "209524  Giants Over Patriots, Jets Over Colts Among  M...     SPORTS   \n",
            "209525  Aldon Smith Arrested: 49ers Linebacker Busted ...     SPORTS   \n",
            "209526  Dwight Howard Rips Teammates After Magic Loss ...     SPORTS   \n",
            "\n",
            "                                        short_description  \\\n",
            "0       Health experts said it is too early to predict...   \n",
            "1       He was subdued by passengers and crew when he ...   \n",
            "2       \"Until you have a dog you don't understand wha...   \n",
            "3       \"Accidentally put grown-up toothpaste on my to...   \n",
            "4       Amy Cooper accused investment firm Franklin Te...   \n",
            "...                                                   ...   \n",
            "209522  Verizon Wireless and AT&T are already promotin...   \n",
            "209523  Afterward, Azarenka, more effusive with the pr...   \n",
            "209524  Leading up to Super Bowl XLVI, the most talked...   \n",
            "209525  CORRECTION: An earlier version of this story i...   \n",
            "209526  The five-time all-star center tore into his te...   \n",
            "\n",
            "                     authors       date  \\\n",
            "0       Carla K. Johnson, AP 2022-09-23   \n",
            "1             Mary Papenfuss 2022-09-23   \n",
            "2              Elyse Wanshel 2022-09-23   \n",
            "3           Caroline Bologna 2022-09-23   \n",
            "4             Nina Golgowski 2022-09-22   \n",
            "...                      ...        ...   \n",
            "209522      Reuters, Reuters 2012-01-28   \n",
            "209523                       2012-01-28   \n",
            "209524                       2012-01-28   \n",
            "209525                       2012-01-28   \n",
            "209526                       2012-01-28   \n",
            "\n",
            "                                                     text  \n",
            "0       Over 4 Million Americans Roll Up Sleeves For O...  \n",
            "1       American Airlines Flyer Charged, Banned For Li...  \n",
            "2       23 Of The Funniest Tweets About Cats And Dogs ...  \n",
            "3       The Funniest Tweets From Parents This Week (Se...  \n",
            "4       Woman Who Called Cops On Black Bird-Watcher Lo...  \n",
            "...                                                   ...  \n",
            "209522  RIM CEO Thorsten Heins' 'Significant' Plans Fo...  \n",
            "209523  Maria Sharapova Stunned By Victoria Azarenka I...  \n",
            "209524  Giants Over Patriots, Jets Over Colts Among  M...  \n",
            "209525  Aldon Smith Arrested: 49ers Linebacker Busted ...  \n",
            "209526  Dwight Howard Rips Teammates After Magic Loss ...  \n",
            "\n",
            "[209527 rows x 7 columns]\n"
          ]
        }
      ],
      "source": [
        "file_path = 'News_Category_Dataset_v3.json'\n",
        "df2 = pd.read_json(file_path, lines=True)\n",
        "print (df2)\n",
        "df2['text'] = df2['headline'] + \" \" + df2['short_description']\n",
        "print (df2)\n",
        "df2 = df2[['category', 'text']]"
      ]
    },
    {
      "cell_type": "code",
      "source": [
        "import matplotlib.pyplot as plt\n",
        "\n",
        "category_counts = df2['category'].value_counts()\n",
        "\n",
        "plt.figure(figsize=(10, 6))\n",
        "plt.bar(category_counts.index, category_counts.values, color='lightblue')\n",
        "\n",
        "plt.xticks(rotation=90)\n",
        "plt.xlabel('Category')\n",
        "plt.ylabel('Count')\n",
        "plt.title('Distribution of News Categories')\n",
        "\n",
        "plt.tight_layout()\n",
        "plt.show()"
      ],
      "metadata": {
        "colab": {
          "base_uri": "https://localhost:8080/",
          "height": 584
        },
        "id": "XLmHztC901D5",
        "outputId": "fe04108f-44de-466d-948b-0c4d75e97c4d"
      },
      "execution_count": 17,
      "outputs": [
        {
          "output_type": "display_data",
          "data": {
            "text/plain": [
              "<Figure size 1000x600 with 1 Axes>"
            ],
            "image/png": "[encoded data removed]"
          },
          "metadata": {}
        }
      ]
    },
    {
      "cell_type": "code",
      "source": [
        "print (df2)"
      ],
      "metadata": {
        "colab": {
          "base_uri": "https://localhost:8080/"
        },
        "id": "BiSszBzWnTkP",
        "outputId": "5baf0439-6aee-4379-8c6b-5cdb1ffcd829"
      },
      "execution_count": 10,
      "outputs": [
        {
          "output_type": "stream",
          "name": "stdout",
          "text": [
            "         category                                               text\n",
            "0       U.S. NEWS  Over 4 Million Americans Roll Up Sleeves For O...\n",
            "1       U.S. NEWS  American Airlines Flyer Charged, Banned For Li...\n",
            "2          COMEDY  23 Of The Funniest Tweets About Cats And Dogs ...\n",
            "3       PARENTING  The Funniest Tweets From Parents This Week (Se...\n",
            "4       U.S. NEWS  Woman Who Called Cops On Black Bird-Watcher Lo...\n",
            "...           ...                                                ...\n",
            "209522       TECH  RIM CEO Thorsten Heins' 'Significant' Plans Fo...\n",
            "209523     SPORTS  Maria Sharapova Stunned By Victoria Azarenka I...\n",
            "209524     SPORTS  Giants Over Patriots, Jets Over Colts Among  M...\n",
            "209525     SPORTS  Aldon Smith Arrested: 49ers Linebacker Busted ...\n",
            "209526     SPORTS  Dwight Howard Rips Teammates After Magic Loss ...\n",
            "\n",
            "[209527 rows x 2 columns]\n"
          ]
        }
      ]
    },
    {
      "cell_type": "code",
      "source": [
        "nltk.download('punkt')"
      ],
      "metadata": {
        "colab": {
          "base_uri": "https://localhost:8080/"
        },
        "id": "Ps0_EqIIp9MB",
        "outputId": "4ae169c6-0e36-4513-e15b-464428e8326e"
      },
      "execution_count": 13,
      "outputs": [
        {
          "output_type": "stream",
          "name": "stderr",
          "text": [
            "[nltk_data] Downloading package punkt to /root/nltk_data...\n",
            "[nltk_data]   Unzipping tokenizers/punkt.zip.\n"
          ]
        },
        {
          "output_type": "execute_result",
          "data": {
            "text/plain": [
              "True"
            ]
          },
          "metadata": {},
          "execution_count": 13
        }
      ]
    },
    {
      "cell_type": "code",
      "execution_count": 14,
      "metadata": {
        "id": "EuQaXpTJL8X6",
        "colab": {
          "base_uri": "https://localhost:8080/"
        },
        "outputId": "eb972818-5a16-4613-f2d6-3a1c8e6362d9"
      },
      "outputs": [
        {
          "output_type": "stream",
          "name": "stdout",
          "text": [
            "         category                                               text  \\\n",
            "0       U.S. NEWS  Over 4 Million Americans Roll Up Sleeves For O...   \n",
            "1       U.S. NEWS  American Airlines Flyer Charged, Banned For Li...   \n",
            "2          COMEDY  23 Of The Funniest Tweets About Cats And Dogs ...   \n",
            "3       PARENTING  The Funniest Tweets From Parents This Week (Se...   \n",
            "4       U.S. NEWS  Woman Who Called Cops On Black Bird-Watcher Lo...   \n",
            "...           ...                                                ...   \n",
            "209522       TECH  RIM CEO Thorsten Heins' 'Significant' Plans Fo...   \n",
            "209523     SPORTS  Maria Sharapova Stunned By Victoria Azarenka I...   \n",
            "209524     SPORTS  Giants Over Patriots, Jets Over Colts Among  M...   \n",
            "209525     SPORTS  Aldon Smith Arrested: 49ers Linebacker Busted ...   \n",
            "209526     SPORTS  Dwight Howard Rips Teammates After Magic Loss ...   \n",
            "\n",
            "                                           processed_text  \n",
            "0       million americans roll sleeves covid boosters ...  \n",
            "1       american airlines flyer charged banned life pu...  \n",
            "2       funniest tweets cats dogs week dog understand ...  \n",
            "3       funniest tweets parents week accidentally put ...  \n",
            "4       woman called cops black loses lawsuit amy coop...  \n",
            "...                                                   ...  \n",
            "209522  rim ceo thorsten heins plans blackberry verizo...  \n",
            "209523  maria sharapova stunned victoria azarenka aust...  \n",
            "209524  giants patriots jets colts among improbable su...  \n",
            "209525  aldon smith arrested linebacker busted dui cor...  \n",
            "209526  dwight howard rips teammates magic loss hornet...  \n",
            "\n",
            "[209527 rows x 3 columns]\n"
          ]
        }
      ],
      "source": [
        "stop_words = set(stopwords.words('english'))\n",
        "\n",
        "def preprocess_text(text):\n",
        "    tokens = word_tokenize(text.lower())\n",
        "    tokens = [token for token in tokens if token.isalpha() and token not in stop_words]\n",
        "    return ' '.join(tokens)\n",
        "\n",
        "df2['processed_text'] = df2['text'].apply(preprocess_text)\n",
        "print(df2)"
      ]
    },
    {
      "cell_type": "code",
      "execution_count": 15,
      "metadata": {
        "collapsed": true,
        "id": "dvuPlZEUMTW7"
      },
      "outputs": [],
      "source": [
        "X_train, X_test, y_train, y_test = train_test_split(df2['processed_text'], df2['category'], test_size=0.2)\n",
        "\n",
        "pipeline = Pipeline([\n",
        "    ('tfidf', TfidfVectorizer(max_features=5000)),\n",
        "    ('classifier', MultinomialNB()),\n",
        "])"
      ]
    },
    {
      "cell_type": "code",
      "execution_count": 16,
      "metadata": {
        "colab": {
          "base_uri": "https://localhost:8080/"
        },
        "id": "gnAY78liT977",
        "outputId": "1484aaf7-3b8a-4ed1-b946-3f835f0b02f3"
      },
      "outputs": [
        {
          "output_type": "stream",
          "name": "stdout",
          "text": [
            "Training the model...\n",
            "Training completed in 6.98 seconds (0.12 minutes)\n",
            "Making predictions...\n",
            "Accuracy: 0.5129\n",
            "\n",
            "Classification Report:\n",
            "                precision    recall  f1-score   support\n",
            "\n",
            "          ARTS       0.41      0.03      0.05       319\n",
            "ARTS & CULTURE       0.33      0.01      0.02       254\n",
            "  BLACK VOICES       0.59      0.12      0.20       939\n",
            "      BUSINESS       0.48      0.29      0.36      1250\n",
            "       COLLEGE       0.47      0.03      0.06       224\n",
            "        COMEDY       0.63      0.25      0.35      1072\n",
            "         CRIME       0.50      0.53      0.51       720\n",
            "CULTURE & ARTS       0.57      0.02      0.04       210\n",
            "       DIVORCE       0.85      0.49      0.62       673\n",
            "     EDUCATION       0.50      0.02      0.04       214\n",
            " ENTERTAINMENT       0.46      0.75      0.57      3517\n",
            "   ENVIRONMENT       0.92      0.08      0.15       280\n",
            "         FIFTY       1.00      0.00      0.01       266\n",
            "  FOOD & DRINK       0.56      0.72      0.63      1217\n",
            "     GOOD NEWS       0.44      0.03      0.05       259\n",
            "         GREEN       0.48      0.14      0.21       528\n",
            "HEALTHY LIVING       0.61      0.04      0.08      1382\n",
            " HOME & LIVING       0.79      0.51      0.62       913\n",
            "        IMPACT       0.54      0.13      0.21       721\n",
            " LATINO VOICES       1.00      0.01      0.02       221\n",
            "         MEDIA       0.72      0.12      0.20       548\n",
            "         MONEY       0.69      0.12      0.20       354\n",
            "     PARENTING       0.43      0.57      0.49      1777\n",
            "       PARENTS       0.63      0.04      0.08       784\n",
            "      POLITICS       0.50      0.92      0.65      7035\n",
            "  QUEER VOICES       0.77      0.42      0.54      1301\n",
            "      RELIGION       0.69      0.20      0.31       527\n",
            "       SCIENCE       0.83      0.19      0.31       443\n",
            "        SPORTS       0.68      0.45      0.55      1044\n",
            "         STYLE       1.00      0.00      0.01       452\n",
            "STYLE & BEAUTY       0.62      0.76      0.68      1900\n",
            "         TASTE       1.00      0.00      0.00       417\n",
            "          TECH       0.70      0.17      0.27       427\n",
            " THE WORLDPOST       0.50      0.32      0.39       730\n",
            "        TRAVEL       0.56      0.76      0.65      1948\n",
            "     U.S. NEWS       0.00      0.00      0.00       284\n",
            "      WEDDINGS       0.88      0.56      0.69       714\n",
            "    WEIRD NEWS       0.40      0.06      0.10       603\n",
            "      WELLNESS       0.41      0.86      0.55      3545\n",
            "         WOMEN       0.58      0.13      0.21       677\n",
            "    WORLD NEWS       0.53      0.17      0.25       712\n",
            "     WORLDPOST       0.44      0.07      0.12       505\n",
            "\n",
            "      accuracy                           0.51     41906\n",
            "     macro avg       0.61      0.26      0.29     41906\n",
            "  weighted avg       0.57      0.51      0.45     41906\n",
            "\n"
          ]
        }
      ],
      "source": [
        "print(\"Training the model...\")\n",
        "start_time = time.time()\n",
        "pipeline.fit(X_train, y_train)\n",
        "end_time = time.time()\n",
        "training_time = end_time - start_time\n",
        "print(f\"Training completed in {training_time:.2f} seconds ({training_time/60:.2f} minutes)\")\n",
        "\n",
        "print(\"Making predictions...\")\n",
        "y_pred = pipeline.predict(X_test)\n",
        "\n",
        "accuracy = accuracy_score(y_test, y_pred)\n",
        "print(f\"Accuracy: {accuracy:.4f}\\n\")\n",
        "\n",
        "print(\"Classification Report:\")\n",
        "print(classification_report(y_test, y_pred, zero_division=1))"
      ]
    }
  ],
  "metadata": {
    "colab": {
      "provenance": []
    },
    "kernelspec": {
      "display_name": "Python 3",
      "name": "python3"
    },
    "language_info": {
      "codemirror_mode": {
        "name": "ipython",
        "version": 3
      },
      "file_extension": ".py",
      "mimetype": "text/x-python",
      "name": "python",
      "nbconvert_exporter": "python",
      "pygments_lexer": "ipython3",
      "version": "3.10.12"
    }
  },
  "nbformat": 4,
  "nbformat_minor": 0
}